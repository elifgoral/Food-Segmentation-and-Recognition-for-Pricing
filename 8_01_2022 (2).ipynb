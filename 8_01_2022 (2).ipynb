{
  "cells": [
    {
      "cell_type": "code",
      "execution_count": null,
      "metadata": {
        "id": "qf37JAkyijpb"
      },
      "outputs": [],
      "source": [
        "import matplotlib.pyplot as plt\n",
        "import numpy as np\n",
        "import tensorflow as tf\n",
        "import tensorflow.keras.backend as K\n",
        "from sklearn.metrics import accuracy_score\n",
        "from tensorflow.keras import layers\n",
        "from tensorflow.keras import metrics\n",
        "from tensorflow.keras.datasets import mnist\n",
        "from tensorflow.keras.models import Model\n",
        "import os\n",
        "from tensorflow.keras.applications import resnet\n",
        "from tensorflow.keras.callbacks import TensorBoard\n"
      ]
    },
    {
      "cell_type": "code",
      "execution_count": null,
      "metadata": {
        "colab": {
          "base_uri": "https://localhost:8080/",
          "height": 34
        },
        "id": "wMD7SvKOedse",
        "outputId": "5bd742c9-acb2-4505-c619-6206abca07ec"
      },
      "outputs": [],
      "source": [
        "import IPython\n",
        "from google.colab import output\n",
        "\n",
        "display(IPython.display.Javascript('''\n",
        " function ClickConnect(){\n",
        "   btn = document.querySelector(\"colab-connect-button\")\n",
        "   if (btn != null){\n",
        "     console.log(\"Click colab-connect-button\"); \n",
        "     btn.click() \n",
        "     }\n",
        "   \n",
        "   btn = document.getElementById('ok')\n",
        "   if (btn != null){\n",
        "     console.log(\"Click reconnect\"); \n",
        "     btn.click() \n",
        "     }\n",
        "  }\n",
        "  \n",
        "setInterval(ClickConnect,60000)\n",
        "'''))\n",
        "\n",
        "print(\"Done.\")"
      ]
    },
    {
      "cell_type": "code",
      "execution_count": null,
      "metadata": {
        "id": "2CoxzseC029H"
      },
      "outputs": [],
      "source": [
        "from tensorflow import keras\n"
      ]
    },
    {
      "cell_type": "code",
      "execution_count": null,
      "metadata": {
        "colab": {
          "base_uri": "https://localhost:8080/"
        },
        "id": "5QLoOs80jyAv",
        "outputId": "380ca645-e9de-472a-8ff6-3391071e33a6"
      },
      "outputs": [],
      "source": [
        "from google.colab import drive\n",
        "import zipfile\n",
        "drive.mount('/content/gdrive')"
      ]
    },
    {
      "cell_type": "code",
      "execution_count": null,
      "metadata": {
        "id": "qhqFzIhhkTYS"
      },
      "outputs": [],
      "source": [
        "dir_path = '/content/gdrive/MyDrive/FoodSegmentation/images.zip'\n",
        "zip_ref = zipfile.ZipFile(dir_path, 'r')\n",
        "zip_ref.extractall(\"/tmp\")\n",
        "zip_ref.close()\n"
      ]
    },
    {
      "cell_type": "code",
      "execution_count": null,
      "metadata": {
        "colab": {
          "base_uri": "https://localhost:8080/"
        },
        "id": "TFf2XG6rkgKS",
        "outputId": "2c064901-3246-47c8-818f-468b6448f3ff"
      },
      "outputs": [],
      "source": [
        "!ls '/tmp/images'"
      ]
    },
    {
      "cell_type": "code",
      "execution_count": null,
      "metadata": {
        "id": "PjlVNZAsim-x"
      },
      "outputs": [],
      "source": [
        "IMAGE_SIZE = 100\n",
        "CURRENT_PATH = \"/tmp/images\"\n",
        "TRAIN_PATH = CURRENT_PATH + \"/images/train\"\n",
        "TEST_PATH = CURRENT_PATH + \"/images/test\"\n",
        "VALIDATION_PATH = CURRENT_PATH + \"/images/validation\"\n",
        "BATCH_SIZE = 64\n",
        "EPOCH_SIZE = 150\n",
        "NAME = \"Epoch size:150 Batch size:64 image_size:100px for 100 train images\"\n"
      ]
    },
    {
      "cell_type": "code",
      "execution_count": null,
      "metadata": {
        "id": "c_7xcXPMio8X"
      },
      "outputs": [],
      "source": [
        "def plot_history(history):\n",
        "    plt.plot(history['loss'])\n",
        "    plt.plot(history['val_loss'])\n",
        "    plt.title('Training and Validation Loss')\n",
        "    plt.ylabel('loss')\n",
        "    plt.xlabel('epoch')\n",
        "    plt.legend(['train', 'val'], loc='upper right')\n",
        "    plt.show()"
      ]
    },
    {
      "cell_type": "code",
      "execution_count": null,
      "metadata": {
        "id": "tD2Zlc4rirkB"
      },
      "outputs": [],
      "source": [
        "def generate_pairs(images, labels):\n",
        "    x_pairs = []\n",
        "    y_pairs = []\n",
        "    for i in range(len(images)):\n",
        "        label = labels[i]\n",
        "        j = np.random.choice(np.where(labels == label)[0])\n",
        "        x_pairs.append([images[i], images[j]])\n",
        "        y_pairs.append([1])\n",
        "    \n",
        "        k = np.random.choice(np.where(labels != label)[0])\n",
        "        x_pairs.append([images[i], images[k]])\n",
        "        y_pairs.append([0])\n",
        "\n",
        "    indices = np.arange(len(x_pairs))\n",
        "    np.random.shuffle(indices)\n",
        "    print(\"pairs length:\",len(x_pairs))\n",
        "    return np.array(x_pairs)[indices], np.array(y_pairs)[indices]\n"
      ]
    },
    {
      "cell_type": "code",
      "execution_count": null,
      "metadata": {
        "id": "WTKjML_giw7z"
      },
      "outputs": [],
      "source": [
        "def norm(features):\n",
        "    return tf.norm(features[0] - features[1], ord='euclidean', axis=1, keepdims=True)\n"
      ]
    },
    {
      "cell_type": "code",
      "execution_count": null,
      "metadata": {
        "id": "BjiniFCoizm2"
      },
      "outputs": [],
      "source": [
        "def accuracy(y_true, y_pred):\n",
        "    return metrics.binary_accuracy(y_true, 1 - y_pred)\n"
      ]
    },
    {
      "cell_type": "code",
      "execution_count": null,
      "metadata": {
        "id": "8ZrRs41gi4v4"
      },
      "outputs": [],
      "source": [
        "def siamese_network():\n",
        "    input1 = layers.Input(shape=(IMAGE_SIZE, IMAGE_SIZE, 3))\n",
        "    input2 = layers.Input(shape=(IMAGE_SIZE, IMAGE_SIZE, 3))\n",
        "    twin = resnet.ResNet50( \n",
        "        weights=\"imagenet\", input_shape=(IMAGE_SIZE, IMAGE_SIZE, 3), include_top=False, pooling='avg',\n",
        "    )\n",
        "    distance = layers.Lambda(norm)([\n",
        "        twin(input1), \n",
        "        twin(input2)\n",
        "    ])\n",
        "    return Model(inputs=[input1, input2], outputs=distance)     \n"
      ]
    },
    {
      "cell_type": "code",
      "execution_count": null,
      "metadata": {
        "id": "q-TRzy1_i6Yx"
      },
      "outputs": [],
      "source": [
        "def images_to_array(image_start,image_end):\n",
        " \n",
        "    dataset_array = []\n",
        "    dataset_labels = []\n",
        "    class_counter = 0\n",
        "    image_counter = 0\n",
        "    classes_names = os.listdir(CURRENT_PATH)\n",
        "    for current_class_name in classes_names:\n",
        "        if class_counter < 101:\n",
        "            class_dir = os.path.join(CURRENT_PATH, current_class_name)\n",
        "            if not \".DS_Store\" in class_dir:\n",
        "              images_in_class = os.listdir(class_dir)\n",
        "              for image_file in images_in_class:\n",
        "                  if image_file.endswith(\".jpg\") and image_counter >= image_start and image_counter <= image_end:\n",
        "                      image_file_dir = os.path.join(class_dir, image_file)\n",
        "                      img = tf.keras.preprocessing.image.load_img(image_file_dir, target_size=(IMAGE_SIZE, IMAGE_SIZE))\n",
        "                      img_array = tf.keras.preprocessing.image.img_to_array(img)\n",
        "                      img_array = img_array/255.0\n",
        "                      dataset_array.append(img_array)\n",
        "                      dataset_labels.append(class_counter)\n",
        "                  image_counter += 1\n",
        "              class_counter += 1\n",
        "              image_counter = 0\n",
        "    dataset_array = np.array(dataset_array)\n",
        "    dataset_labels = np.array(dataset_labels)\n",
        "    return dataset_array, dataset_labels\n"
      ]
    },
    {
      "cell_type": "code",
      "execution_count": null,
      "metadata": {
        "id": "REGUXXSzjOOh"
      },
      "outputs": [],
      "source": [
        "model = siamese_network()"
      ]
    },
    {
      "cell_type": "code",
      "execution_count": null,
      "metadata": {
        "id": "qvATQ36ijRMg"
      },
      "outputs": [],
      "source": [
        "model.compile(\n",
        "    loss=tf.keras.losses.BinaryCrossentropy(from_logits=True),\n",
        "    optimizer=\"adam\", \n",
        "    metrics=[accuracy]\n",
        ")"
      ]
    },
    {
      "cell_type": "code",
      "execution_count": null,
      "metadata": {
        "id": "KNaF9m4AjTEC"
      },
      "outputs": [],
      "source": [
        "model.summary()\n"
      ]
    },
    {
      "cell_type": "code",
      "execution_count": null,
      "metadata": {
        "colab": {
          "base_uri": "https://localhost:8080/"
        },
        "id": "tX1lLeW1i81D",
        "outputId": "c823692c-4d26-449f-d733-9d7e789c7127"
      },
      "outputs": [],
      "source": [
        "train_dataset_array, train_dataset_array_labels = images_to_array(0,149)\n",
        "test_dataset_array, test_dataset_array_labels = images_to_array(150,164)\n",
        "images_pairs_train, labels_pairs_train = generate_pairs(train_dataset_array, train_dataset_array_labels)\n",
        "images_pairs_test, labels_pairs_test = generate_pairs(test_dataset_array, test_dataset_array_labels)"
      ]
    },
    {
      "cell_type": "code",
      "execution_count": null,
      "metadata": {
        "id": "tZ09eBNBjUpY"
      },
      "outputs": [],
      "source": [
        "history = model.fit(\n",
        "    x=[images_pairs_train[:, 0], images_pairs_train[:, 1]], \n",
        "    y=labels_pairs_train[:], \n",
        "    batch_size=BATCH_SIZE,\n",
        "    epochs=EPOCH_SIZE,\n",
        "    validation_split=0.3\n",
        ")"
      ]
    },
    {
      "cell_type": "code",
      "execution_count": null,
      "metadata": {
        "colab": {
          "base_uri": "https://localhost:8080/",
          "height": 295
        },
        "id": "KTJG8O2ASaal",
        "outputId": "133f8a4e-c9e6-4d3a-915e-26df10c0c208"
      },
      "outputs": [],
      "source": [
        "plot_history(history.history)"
      ]
    },
    {
      "cell_type": "code",
      "execution_count": null,
      "metadata": {
        "colab": {
          "base_uri": "https://localhost:8080/"
        },
        "id": "yiu0cF8WjW71",
        "outputId": "1271f816-115e-4106-eccd-ebd0bb6d8800"
      },
      "outputs": [],
      "source": [
        "model.save('600_images_150_epoch_binarycross.h5')"
      ]
    },
    {
      "cell_type": "code",
      "execution_count": null,
      "metadata": {
        "id": "KGlqc2V-0-Lc"
      },
      "outputs": [],
      "source": [
        "model = keras.models.load_model(\"600_images_150_epoch_binarycross.h5\")\n"
      ]
    },
    {
      "cell_type": "code",
      "execution_count": null,
      "metadata": {
        "colab": {
          "base_uri": "https://localhost:8080/"
        },
        "id": "pNvEE-7c6kMa",
        "outputId": "4d3a4f44-ad5b-40b8-979b-100bb1f66644"
      },
      "outputs": [],
      "source": [
        "predictions = np.round(1 - model.predict([images_pairs_test[:, 0], images_pairs_test[:, 1]]))\n",
        "accuracy = metrics.BinaryAccuracy()\n",
        "accuracy.update_state(labels_pairs_test, predictions)\n",
        "print(f\"\\nAccuracy: {accuracy.result().numpy()}\")"
      ]
    },
    {
      "cell_type": "code",
      "execution_count": null,
      "metadata": {
        "id": "nBa2Bsnr1LbN"
      },
      "outputs": [],
      "source": [
        "img_path_one = CURRENT_PATH + \"/apple_pie/3915901.jpg\"\n",
        "img_path_two = CURRENT_PATH + \"/apple_pie/3917257.jpg\"\n",
        "\n",
        "img_one = tf.io.read_file(img_path_one)\n",
        "img_one = tf.image.convert_image_dtype(tf.io.decode_png(img_one, channels=3), dtype='float32')  # * 1./255\n",
        "img_one = tf.image.resize(img_one, (IMAGE_SIZE, IMAGE_SIZE), method=tf.image.ResizeMethod.BILINEAR)\n",
        "img_one_final = tf.expand_dims(img_one, 0)\n",
        "\n",
        "img_two = tf.io.read_file(img_path_two)\n",
        "img_two = tf.image.convert_image_dtype(tf.io.decode_png(img_two, channels=3), dtype='float32')  # * 1./255\n",
        "img_two = tf.image.resize(img_two, (IMAGE_SIZE, IMAGE_SIZE), method=tf.image.ResizeMethod.BILINEAR)\n",
        "img_two_final = tf.expand_dims(img_two, 0)"
      ]
    },
    {
      "cell_type": "code",
      "execution_count": null,
      "metadata": {
        "colab": {
          "base_uri": "https://localhost:8080/"
        },
        "id": "Fg-bq0u71cKX",
        "outputId": "c3571795-45ad-4ae3-9a1e-84726efef48c"
      },
      "outputs": [],
      "source": [
        "true_lab = 0\n",
        "\n",
        "y_pred= model.predict([img_one_final, img_two_final])\n",
        "print(y_pred)\n",
        "if y_pred < 0.8:\n",
        "  print(\"Similar\")\n",
        "else:\n",
        "  print(\"Not similar\")"
      ]
    }
  ],
  "metadata": {
    "accelerator": "GPU",
    "colab": {
      "collapsed_sections": [],
      "machine_shape": "hm",
      "name": "8.01.2022.ipynb",
      "provenance": []
    },
    "kernelspec": {
      "display_name": "Python 3",
      "name": "python3"
    },
    "language_info": {
      "name": "python"
    }
  },
  "nbformat": 4,
  "nbformat_minor": 0
}
